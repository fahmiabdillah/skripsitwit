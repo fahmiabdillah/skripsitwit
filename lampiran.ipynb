{
 "cells": [
  {
   "cell_type": "code",
   "execution_count": 5,
   "id": "5fbc5c84-3651-4c4c-ad9c-cd89d2c32aa2",
   "metadata": {},
   "outputs": [
    {
     "name": "stdout",
     "output_type": "stream",
     "text": [
      "[\"'apple'\", \"'banana'\", \"'cherry'\"]\n"
     ]
    }
   ],
   "source": [
    "original_list = ['apple', 'banana', 'cherry']\n",
    "\n",
    "quoted_list = [\"'\" + item + \"'\" for item in original_list]\n",
    "\n",
    "print(quoted_list)"
   ]
  }
 ],
 "metadata": {
  "kernelspec": {
   "display_name": "Python 3 (ipykernel)",
   "language": "python",
   "name": "python3"
  },
  "language_info": {
   "codemirror_mode": {
    "name": "ipython",
    "version": 3
   },
   "file_extension": ".py",
   "mimetype": "text/x-python",
   "name": "python",
   "nbconvert_exporter": "python",
   "pygments_lexer": "ipython3",
   "version": "3.9.16"
  }
 },
 "nbformat": 4,
 "nbformat_minor": 5
}
