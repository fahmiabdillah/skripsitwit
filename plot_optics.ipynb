{
 "cells": [
  {
   "cell_type": "code",
   "execution_count": null,
   "metadata": {
    "collapsed": false,
    "jupyter": {
     "outputs_hidden": false
    }
   },
   "outputs": [],
   "source": [
    "%matplotlib inline"
   ]
  },
  {
   "cell_type": "markdown",
   "metadata": {},
   "source": [
    "\n",
    "# Demo of OPTICS clustering algorithm\n",
    "\n",
    ".. currentmodule:: sklearn\n",
    "\n",
    "Finds core samples of high density and expands clusters from them.\n",
    "This example uses data that is generated so that the clusters have\n",
    "different densities.\n",
    "The :class:`~cluster.OPTICS` is first used with its Xi cluster detection\n",
    "method, and then setting specific thresholds on the reachability, which\n",
    "corresponds to :class:`~cluster.DBSCAN`. We can see that the different\n",
    "clusters of OPTICS's Xi method can be recovered with different choices of\n",
    "thresholds in DBSCAN.\n"
   ]
  },
  {
   "cell_type": "code",
   "execution_count": null,
   "metadata": {
    "collapsed": false,
    "jupyter": {
     "outputs_hidden": false
    }
   },
   "outputs": [],
   "source": [
    "# Authors: Shane Grigsby <refuge@rocktalus.com>\n",
    "#          Adrin Jalali <adrin.jalali@gmail.com>\n",
    "# License: BSD 3 clause\n",
    "\n",
    "from sklearn.cluster import OPTICS, cluster_optics_dbscan\n",
    "import matplotlib.gridspec as gridspec\n",
    "import matplotlib.pyplot as plt\n",
    "import numpy as np\n",
    "\n",
    "# Generate sample data\n",
    "\n",
    "np.random.seed(0)\n",
    "n_points_per_cluster = 250\n",
    "\n",
    "C1 = [-5, -2] + 0.8 * np.random.randn(n_points_per_cluster, 2)\n",
    "C2 = [4, -1] + 0.1 * np.random.randn(n_points_per_cluster, 2)\n",
    "C3 = [1, -2] + 0.2 * np.random.randn(n_points_per_cluster, 2)\n",
    "C4 = [-2, 3] + 0.3 * np.random.randn(n_points_per_cluster, 2)\n",
    "C5 = [3, -2] + 1.6 * np.random.randn(n_points_per_cluster, 2)\n",
    "C6 = [5, 6] + 2 * np.random.randn(n_points_per_cluster, 2)\n",
    "X = np.vstack((C1, C2, C3, C4, C5, C6))\n",
    "\n",
    "clust = OPTICS(min_samples=50, xi=0.05, min_cluster_size=0.05)\n",
    "\n",
    "# Run the fit\n",
    "clust.fit(X)\n",
    "\n",
    "labels_050 = cluster_optics_dbscan(\n",
    "    reachability=clust.reachability_,\n",
    "    core_distances=clust.core_distances_,\n",
    "    ordering=clust.ordering_,\n",
    "    eps=0.5,\n",
    ")\n",
    "labels_200 = cluster_optics_dbscan(\n",
    "    reachability=clust.reachability_,\n",
    "    core_distances=clust.core_distances_,\n",
    "    ordering=clust.ordering_,\n",
    "    eps=2,\n",
    ")\n",
    "\n",
    "space = np.arange(len(X))\n",
    "reachability = clust.reachability_[clust.ordering_]\n",
    "labels = clust.labels_[clust.ordering_]\n",
    "\n",
    "plt.figure(figsize=(10, 7))\n",
    "G = gridspec.GridSpec(2, 3)\n",
    "ax1 = plt.subplot(G[0, :])\n",
    "ax2 = plt.subplot(G[1, 0])\n",
    "ax3 = plt.subplot(G[1, 1])\n",
    "ax4 = plt.subplot(G[1, 2])\n",
    "\n",
    "# Reachability plot\n",
    "colors = [\"g.\", \"r.\", \"b.\", \"y.\", \"c.\"]\n",
    "for klass, color in zip(range(0, 5), colors):\n",
    "    Xk = space[labels == klass]\n",
    "    Rk = reachability[labels == klass]\n",
    "    ax1.plot(Xk, Rk, color, alpha=0.3)\n",
    "ax1.plot(space[labels == -1], reachability[labels == -1], \"k.\", alpha=0.3)\n",
    "ax1.plot(space, np.full_like(space, 2.0, dtype=float), \"k-\", alpha=0.5)\n",
    "ax1.plot(space, np.full_like(space, 0.5, dtype=float), \"k-.\", alpha=0.5)\n",
    "ax1.set_ylabel(\"Reachability (epsilon distance)\")\n",
    "ax1.set_title(\"Reachability Plot\")\n",
    "\n",
    "# OPTICS\n",
    "colors = [\"g.\", \"r.\", \"b.\", \"y.\", \"c.\"]\n",
    "for klass, color in zip(range(0, 5), colors):\n",
    "    Xk = X[clust.labels_ == klass]\n",
    "    ax2.plot(Xk[:, 0], Xk[:, 1], color, alpha=0.3)\n",
    "ax2.plot(X[clust.labels_ == -1, 0], X[clust.labels_ == -1, 1], \"k+\", alpha=0.1)\n",
    "ax2.set_title(\"Automatic Clustering\\nOPTICS\")\n",
    "\n",
    "# DBSCAN at 0.5\n",
    "colors = [\"g.\", \"r.\", \"b.\", \"c.\"]\n",
    "for klass, color in zip(range(0, 4), colors):\n",
    "    Xk = X[labels_050 == klass]\n",
    "    ax3.plot(Xk[:, 0], Xk[:, 1], color, alpha=0.3)\n",
    "ax3.plot(X[labels_050 == -1, 0], X[labels_050 == -1, 1], \"k+\", alpha=0.1)\n",
    "ax3.set_title(\"Clustering at 0.5 epsilon cut\\nDBSCAN\")\n",
    "\n",
    "# DBSCAN at 2.\n",
    "colors = [\"g.\", \"m.\", \"y.\", \"c.\"]\n",
    "for klass, color in zip(range(0, 4), colors):\n",
    "    Xk = X[labels_200 == klass]\n",
    "    ax4.plot(Xk[:, 0], Xk[:, 1], color, alpha=0.3)\n",
    "ax4.plot(X[labels_200 == -1, 0], X[labels_200 == -1, 1], \"k+\", alpha=0.1)\n",
    "ax4.set_title(\"Clustering at 2.0 epsilon cut\\nDBSCAN\")\n",
    "\n",
    "plt.tight_layout()\n",
    "plt.show()"
   ]
  }
 ],
 "metadata": {
  "kernelspec": {
   "display_name": "Python 3 (ipykernel)",
   "language": "python",
   "name": "python3"
  },
  "language_info": {
   "codemirror_mode": {
    "name": "ipython",
    "version": 3
   },
   "file_extension": ".py",
   "mimetype": "text/x-python",
   "name": "python",
   "nbconvert_exporter": "python",
   "pygments_lexer": "ipython3",
   "version": "3.9.16"
  }
 },
 "nbformat": 4,
 "nbformat_minor": 4
}
